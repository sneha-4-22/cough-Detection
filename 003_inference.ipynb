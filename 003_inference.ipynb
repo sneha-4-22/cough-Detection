{
 "cells": [
  {
   "cell_type": "markdown",
   "metadata": {},
   "source": [
    "# Inference of pretrained model"
   ]
  },
  {
   "cell_type": "code",
   "execution_count": 2,
   "metadata": {},
   "outputs": [
    {
     "name": "stderr",
     "output_type": "stream",
     "text": [
      "C:\\Users\\Sneha\\anaconda3\\Lib\\site-packages\\pandas\\core\\arrays\\masked.py:60: UserWarning: Pandas requires version '1.3.6' or newer of 'bottleneck' (version '1.3.5' currently installed).\n",
      "  from pandas.core import (\n"
     ]
    }
   ],
   "source": [
    "# system imports\n",
    "import os\n",
    "\n",
    "# additional imports\n",
    "import pandas as pd\n",
    "import numpy as np\n",
    "\n",
    "from sklearn.preprocessing import LabelEncoder, StandardScaler\n",
    "\n",
    "import torch\n",
    "\n",
    "# internal imports\n",
    "from utils import preproces, CoughNet"
   ]
  },
  {
   "cell_type": "markdown",
   "metadata": {},
   "source": [
    "## Path to test file"
   ]
  },
  {
   "cell_type": "code",
   "execution_count": 3,
   "metadata": {},
   "outputs": [],
   "source": [
    "fn_wav = 'data/test.wav' # positive example"
   ]
  },
  {
   "cell_type": "markdown",
   "metadata": {},
   "source": [
    "## Inference"
   ]
  },
  {
   "cell_type": "code",
   "execution_count": 4,
   "metadata": {
    "scrolled": true
   },
   "outputs": [
    {
     "ename": "NameError",
     "evalue": "name 'hparams' is not defined",
     "output_type": "error",
     "traceback": [
      "\u001b[1;31m---------------------------------------------------------------------------\u001b[0m",
      "\u001b[1;31mNameError\u001b[0m                                 Traceback (most recent call last)",
      "Cell \u001b[1;32mIn[4], line 2\u001b[0m\n\u001b[0;32m      1\u001b[0m \u001b[38;5;66;03m# Create input features\u001b[39;00m\n\u001b[1;32m----> 2\u001b[0m df_features \u001b[38;5;241m=\u001b[39m pd\u001b[38;5;241m.\u001b[39mDataFrame(columns\u001b[38;5;241m=\u001b[39mhparams[\u001b[38;5;124m'\u001b[39m\u001b[38;5;124mfeatures\u001b[39m\u001b[38;5;124m'\u001b[39m])\n\u001b[0;32m      3\u001b[0m preprocessed_data \u001b[38;5;241m=\u001b[39m preproces(fn_wav)\n\u001b[0;32m      4\u001b[0m feature_row \u001b[38;5;241m=\u001b[39m pd\u001b[38;5;241m.\u001b[39mDataFrame(preprocessed_data, index\u001b[38;5;241m=\u001b[39m[\u001b[38;5;241m0\u001b[39m])  \u001b[38;5;66;03m# Convert dictionary to DataFrame\u001b[39;00m\n",
      "\u001b[1;31mNameError\u001b[0m: name 'hparams' is not defined"
     ]
    }
   ],
   "source": [
    "# Create input features\n",
    "df_features = pd.DataFrame(columns=hparams['features'])\n",
    "preprocessed_data = preproces(fn_wav)\n",
    "feature_row = pd.DataFrame(preprocessed_data, index=[0])  # Convert dictionary to DataFrame\n",
    "df_features = pd.concat([df_features, feature_row], ignore_index=True)\n",
    "\n",
    "X = np.array(df_features[hparams['features']], dtype=np.float32)\n",
    "X = torch.Tensor(scaler.transform(X))\n",
    "\n",
    "outputs = torch.softmax(model(X), 1)\n",
    "predictions = torch.argmax(outputs.data, 1)\n",
    "\n",
    "# Print result\n",
    "print(f'model outputs {outputs[0].detach().numpy()} which predicts the class {encoder.classes_[predictions]}!')\n"
   ]
  },
  {
   "cell_type": "code",
   "execution_count": 5,
   "metadata": {},
   "outputs": [
    {
     "ename": "NameError",
     "evalue": "name 'test_loader' is not defined",
     "output_type": "error",
     "traceback": [
      "\u001b[1;31m---------------------------------------------------------------------------\u001b[0m",
      "\u001b[1;31mNameError\u001b[0m                                 Traceback (most recent call last)",
      "Cell \u001b[1;32mIn[5], line 15\u001b[0m\n\u001b[0;32m     12\u001b[0m             targets\u001b[38;5;241m.\u001b[39mextend(labels\u001b[38;5;241m.\u001b[39mtolist())\n\u001b[0;32m     13\u001b[0m     \u001b[38;5;28;01mreturn\u001b[39;00m predictions, targets\n\u001b[1;32m---> 15\u001b[0m predictions, targets \u001b[38;5;241m=\u001b[39m inference(test_loader, model)\n\u001b[0;32m     17\u001b[0m \u001b[38;5;66;03m# Calculate accuracy\u001b[39;00m\n\u001b[0;32m     18\u001b[0m accuracy \u001b[38;5;241m=\u001b[39m (np\u001b[38;5;241m.\u001b[39marray(predictions) \u001b[38;5;241m==\u001b[39m np\u001b[38;5;241m.\u001b[39marray(targets))\u001b[38;5;241m.\u001b[39mmean()\n",
      "\u001b[1;31mNameError\u001b[0m: name 'test_loader' is not defined"
     ]
    }
   ],
   "source": [
    "# Perform inference on the test set\n",
    "def inference(loader_test, model):\n",
    "    model.eval()\n",
    "    predictions = []\n",
    "    targets = []\n",
    "    with torch.no_grad():\n",
    "        for features, labels in loader_test:\n",
    "            features, labels = features.to(device), labels.to(device)\n",
    "            outputs = model(features)\n",
    "            predicted = torch.argmax(outputs, dim=1)\n",
    "            predictions.extend(predicted.tolist())\n",
    "            targets.extend(labels.tolist())\n",
    "    return predictions, targets\n",
    "\n",
    "predictions, targets = inference(test_loader, model)\n",
    "\n",
    "# Calculate accuracy\n",
    "accuracy = (np.array(predictions) == np.array(targets)).mean()\n",
    "\n",
    "print(f\"Accuracy: {accuracy}\")\n"
   ]
  },
  {
   "cell_type": "code",
   "execution_count": null,
   "metadata": {},
   "outputs": [],
   "source": []
  }
 ],
 "metadata": {
  "kernelspec": {
   "display_name": "Python 3 (ipykernel)",
   "language": "python",
   "name": "python3"
  },
  "language_info": {
   "codemirror_mode": {
    "name": "ipython",
    "version": 3
   },
   "file_extension": ".py",
   "mimetype": "text/x-python",
   "name": "python",
   "nbconvert_exporter": "python",
   "pygments_lexer": "ipython3",
   "version": "3.11.5"
  }
 },
 "nbformat": 4,
 "nbformat_minor": 2
}
