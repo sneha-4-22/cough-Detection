{
 "cells": [
  {
   "cell_type": "code",
   "execution_count": 75,
   "id": "b6a5da8f",
   "metadata": {},
   "outputs": [],
   "source": [
    "import pandas as pd\n",
    "import numpy as np\n",
    "import os\n",
    "import librosa\n",
    "from sklearn.model_selection import train_test_split\n",
    "from sklearn.preprocessing import LabelEncoder, StandardScaler\n",
    "from keras.models import Sequential\n",
    "from keras.layers import Dense"
   ]
  },
  {
   "cell_type": "code",
   "execution_count": 76,
   "id": "01648f81",
   "metadata": {},
   "outputs": [],
   "source": [
    "csv_file_path = \"covid/cough_trial_extended.csv\"  \n",
    "csv_data = pd.read_csv(csv_file_path)\n",
    "audio_dir = \"covid/trial_covid/\" "
   ]
  },
  {
   "cell_type": "code",
   "execution_count": 97,
   "id": "2045920b",
   "metadata": {},
   "outputs": [],
   "source": [
    "def extract_features(file_path):\n",
    "    y, sr = librosa.load(file_path, mono=True, duration=5)\n",
    "    chroma_stft = librosa.feature.chroma_stft(y=y, sr=sr)\n",
    "    rmse = librosa.feature.rms(y=y)\n",
    "    spec_cent = librosa.feature.spectral_centroid(y=y, sr=sr)\n",
    "    spec_bw = librosa.feature.spectral_bandwidth(y=y, sr=sr)\n",
    "    rolloff = librosa.feature.spectral_rolloff(y=y, sr=sr)\n",
    "    zcr = librosa.feature.zero_crossing_rate(y)\n",
    "    mfcc = librosa.feature.mfcc(y=y, sr=sr, n_mfcc=13)\n",
    "\n",
    "    feature_list = []\n",
    "    feature_list.append(np.mean(chroma_stft))\n",
    "    feature_list.append(np.mean(rmse))\n",
    "    feature_list.append(np.mean(spec_cent))\n",
    "    feature_list.append(np.mean(spec_bw))\n",
    "    feature_list.append(np.mean(rolloff))\n",
    "    feature_list.append(np.mean(zcr))\n",
    "    for e in mfcc:\n",
    "        feature_list.append(np.mean(e))\n",
    "\n",
    "    return feature_list[:19]"
   ]
  },
  {
   "cell_type": "code",
   "execution_count": 78,
   "id": "2b4ef989",
   "metadata": {},
   "outputs": [
    {
     "name": "stderr",
     "output_type": "stream",
     "text": [
      "C:\\Users\\Sneha\\anaconda3\\Lib\\site-packages\\librosa\\core\\pitch.py:101: UserWarning: Trying to estimate tuning from empty frequency set.\n",
      "  return pitch_tuning(\n"
     ]
    }
   ],
   "source": [
    "X = []\n",
    "y = []\n",
    "for index, row in csv_data.iterrows():\n",
    "    file_name = os.path.join(audio_dir, row['file_properties'])\n",
    "    features = extract_features(file_name)\n",
    "    X.append(features)\n",
    "    y.append(row['class'])"
   ]
  },
  {
   "cell_type": "code",
   "execution_count": 79,
   "id": "2c576872",
   "metadata": {},
   "outputs": [],
   "source": [
    "encoder = LabelEncoder()\n",
    "y = encoder.fit_transform(y)\n",
    "\n",
    "scaler = StandardScaler()\n",
    "X_scaled = scaler.fit_transform(X)"
   ]
  },
  {
   "cell_type": "code",
   "execution_count": 89,
   "id": "ee91f3e9",
   "metadata": {},
   "outputs": [],
   "source": [
    "X_train, X_test, y_train, y_test = train_test_split(X_scaled, y, test_size=0.2, random_state=40)"
   ]
  },
  {
   "cell_type": "code",
   "execution_count": 101,
   "id": "80adf341",
   "metadata": {},
   "outputs": [
    {
     "name": "stdout",
     "output_type": "stream",
     "text": [
      "Epoch 1/100\n",
      "2/2 [==============================] - 1s 224ms/step - loss: 0.6686 - accuracy: 0.6471 - val_loss: 0.4175 - val_accuracy: 0.9143\n",
      "Epoch 2/100\n",
      "2/2 [==============================] - 0s 59ms/step - loss: 0.4361 - accuracy: 0.8824 - val_loss: 0.3056 - val_accuracy: 0.9143\n",
      "Epoch 3/100\n",
      "2/2 [==============================] - 0s 52ms/step - loss: 0.3244 - accuracy: 0.8824 - val_loss: 0.2357 - val_accuracy: 0.9143\n",
      "Epoch 4/100\n",
      "2/2 [==============================] - 0s 65ms/step - loss: 0.2649 - accuracy: 0.8824 - val_loss: 0.1962 - val_accuracy: 0.9143\n",
      "Epoch 5/100\n",
      "2/2 [==============================] - 0s 52ms/step - loss: 0.2325 - accuracy: 0.8824 - val_loss: 0.1767 - val_accuracy: 0.9143\n",
      "Epoch 6/100\n",
      "2/2 [==============================] - 0s 64ms/step - loss: 0.2125 - accuracy: 0.8824 - val_loss: 0.1630 - val_accuracy: 0.9143\n",
      "Epoch 7/100\n",
      "2/2 [==============================] - 0s 55ms/step - loss: 0.1871 - accuracy: 0.8824 - val_loss: 0.1488 - val_accuracy: 0.9143\n",
      "Epoch 8/100\n",
      "2/2 [==============================] - 0s 59ms/step - loss: 0.1553 - accuracy: 0.8824 - val_loss: 0.1350 - val_accuracy: 0.9429\n",
      "Epoch 9/100\n",
      "2/2 [==============================] - 0s 55ms/step - loss: 0.1262 - accuracy: 0.9338 - val_loss: 0.1237 - val_accuracy: 0.9714\n",
      "Epoch 10/100\n",
      "2/2 [==============================] - 0s 50ms/step - loss: 0.1045 - accuracy: 0.9632 - val_loss: 0.1160 - val_accuracy: 0.9714\n",
      "Epoch 11/100\n",
      "2/2 [==============================] - 0s 56ms/step - loss: 0.0921 - accuracy: 0.9779 - val_loss: 0.1090 - val_accuracy: 0.9714\n",
      "Epoch 12/100\n",
      "2/2 [==============================] - 0s 53ms/step - loss: 0.0822 - accuracy: 0.9853 - val_loss: 0.0996 - val_accuracy: 0.9714\n",
      "Epoch 13/100\n",
      "2/2 [==============================] - 0s 65ms/step - loss: 0.0710 - accuracy: 0.9853 - val_loss: 0.0928 - val_accuracy: 0.9714\n",
      "Epoch 14/100\n",
      "2/2 [==============================] - 0s 67ms/step - loss: 0.0617 - accuracy: 0.9926 - val_loss: 0.0887 - val_accuracy: 0.9714\n",
      "Epoch 15/100\n",
      "2/2 [==============================] - 0s 62ms/step - loss: 0.0544 - accuracy: 0.9926 - val_loss: 0.0866 - val_accuracy: 0.9714\n",
      "Epoch 16/100\n",
      "2/2 [==============================] - 0s 42ms/step - loss: 0.0472 - accuracy: 0.9926 - val_loss: 0.0867 - val_accuracy: 0.9714\n",
      "Epoch 17/100\n",
      "2/2 [==============================] - 0s 49ms/step - loss: 0.0410 - accuracy: 0.9926 - val_loss: 0.0879 - val_accuracy: 0.9714\n",
      "Epoch 18/100\n",
      "2/2 [==============================] - 0s 48ms/step - loss: 0.0352 - accuracy: 0.9926 - val_loss: 0.0889 - val_accuracy: 0.9429\n",
      "Epoch 19/100\n",
      "2/2 [==============================] - 0s 54ms/step - loss: 0.0290 - accuracy: 0.9926 - val_loss: 0.0904 - val_accuracy: 0.9429\n",
      "Epoch 20/100\n",
      "2/2 [==============================] - 0s 40ms/step - loss: 0.0232 - accuracy: 0.9926 - val_loss: 0.0934 - val_accuracy: 0.9429\n",
      "Epoch 21/100\n",
      "2/2 [==============================] - 0s 58ms/step - loss: 0.0191 - accuracy: 0.9926 - val_loss: 0.0976 - val_accuracy: 0.9429\n",
      "Epoch 22/100\n",
      "2/2 [==============================] - 0s 72ms/step - loss: 0.0169 - accuracy: 1.0000 - val_loss: 0.1017 - val_accuracy: 0.9429\n",
      "Epoch 23/100\n",
      "2/2 [==============================] - 0s 66ms/step - loss: 0.0153 - accuracy: 1.0000 - val_loss: 0.1053 - val_accuracy: 0.9429\n",
      "Epoch 24/100\n",
      "2/2 [==============================] - 0s 62ms/step - loss: 0.0133 - accuracy: 1.0000 - val_loss: 0.1081 - val_accuracy: 0.9429\n",
      "Epoch 25/100\n",
      "2/2 [==============================] - 0s 65ms/step - loss: 0.0109 - accuracy: 1.0000 - val_loss: 0.1084 - val_accuracy: 0.9429\n",
      "Epoch 26/100\n",
      "2/2 [==============================] - 0s 47ms/step - loss: 0.0088 - accuracy: 1.0000 - val_loss: 0.1063 - val_accuracy: 0.9429\n",
      "Epoch 27/100\n",
      "2/2 [==============================] - 0s 56ms/step - loss: 0.0072 - accuracy: 1.0000 - val_loss: 0.1046 - val_accuracy: 0.9429\n",
      "Epoch 28/100\n",
      "2/2 [==============================] - 0s 47ms/step - loss: 0.0063 - accuracy: 1.0000 - val_loss: 0.1036 - val_accuracy: 0.9429\n",
      "Epoch 29/100\n",
      "2/2 [==============================] - 0s 42ms/step - loss: 0.0055 - accuracy: 1.0000 - val_loss: 0.1035 - val_accuracy: 0.9429\n",
      "Epoch 30/100\n",
      "2/2 [==============================] - 0s 41ms/step - loss: 0.0048 - accuracy: 1.0000 - val_loss: 0.1050 - val_accuracy: 0.9429\n",
      "Epoch 31/100\n",
      "2/2 [==============================] - 0s 54ms/step - loss: 0.0041 - accuracy: 1.0000 - val_loss: 0.1081 - val_accuracy: 0.9429\n",
      "Epoch 32/100\n",
      "2/2 [==============================] - 0s 82ms/step - loss: 0.0035 - accuracy: 1.0000 - val_loss: 0.1109 - val_accuracy: 0.9429\n",
      "Epoch 33/100\n",
      "2/2 [==============================] - 0s 73ms/step - loss: 0.0030 - accuracy: 1.0000 - val_loss: 0.1137 - val_accuracy: 0.9429\n",
      "Epoch 34/100\n",
      "2/2 [==============================] - 0s 52ms/step - loss: 0.0027 - accuracy: 1.0000 - val_loss: 0.1133 - val_accuracy: 0.9429\n",
      "Epoch 35/100\n",
      "2/2 [==============================] - 0s 68ms/step - loss: 0.0025 - accuracy: 1.0000 - val_loss: 0.1103 - val_accuracy: 0.9429\n",
      "Epoch 36/100\n",
      "2/2 [==============================] - 0s 50ms/step - loss: 0.0033 - accuracy: 1.0000 - val_loss: 0.1089 - val_accuracy: 0.9429\n",
      "Epoch 37/100\n",
      "2/2 [==============================] - 0s 58ms/step - loss: 0.0039 - accuracy: 1.0000 - val_loss: 0.1090 - val_accuracy: 0.9429\n",
      "Epoch 38/100\n",
      "2/2 [==============================] - 0s 66ms/step - loss: 0.0038 - accuracy: 1.0000 - val_loss: 0.1103 - val_accuracy: 0.9429\n",
      "Epoch 39/100\n",
      "2/2 [==============================] - 0s 57ms/step - loss: 0.0031 - accuracy: 1.0000 - val_loss: 0.1125 - val_accuracy: 0.9429\n",
      "Epoch 40/100\n",
      "2/2 [==============================] - 0s 48ms/step - loss: 0.0023 - accuracy: 1.0000 - val_loss: 0.1153 - val_accuracy: 0.9429\n",
      "Epoch 41/100\n",
      "2/2 [==============================] - 0s 59ms/step - loss: 0.0016 - accuracy: 1.0000 - val_loss: 0.1184 - val_accuracy: 0.9429\n",
      "Epoch 42/100\n",
      "2/2 [==============================] - 0s 65ms/step - loss: 0.0012 - accuracy: 1.0000 - val_loss: 0.1214 - val_accuracy: 0.9429\n",
      "Epoch 43/100\n",
      "2/2 [==============================] - 0s 39ms/step - loss: 0.0010 - accuracy: 1.0000 - val_loss: 0.1242 - val_accuracy: 0.9429\n",
      "Epoch 44/100\n",
      "2/2 [==============================] - 0s 59ms/step - loss: 9.2813e-04 - accuracy: 1.0000 - val_loss: 0.1268 - val_accuracy: 0.9429\n",
      "Epoch 45/100\n",
      "2/2 [==============================] - 0s 50ms/step - loss: 8.5049e-04 - accuracy: 1.0000 - val_loss: 0.1299 - val_accuracy: 0.9429\n",
      "Epoch 46/100\n",
      "2/2 [==============================] - 0s 76ms/step - loss: 8.3777e-04 - accuracy: 1.0000 - val_loss: 0.1339 - val_accuracy: 0.9429\n",
      "Epoch 47/100\n",
      "2/2 [==============================] - 0s 56ms/step - loss: 9.2681e-04 - accuracy: 1.0000 - val_loss: 0.1381 - val_accuracy: 0.9429\n",
      "Epoch 48/100\n",
      "2/2 [==============================] - 0s 68ms/step - loss: 0.0013 - accuracy: 1.0000 - val_loss: 0.1344 - val_accuracy: 0.9429\n",
      "Epoch 49/100\n",
      "2/2 [==============================] - 0s 52ms/step - loss: 7.0674e-04 - accuracy: 1.0000 - val_loss: 0.1245 - val_accuracy: 0.9429\n",
      "Epoch 50/100\n",
      "2/2 [==============================] - 0s 72ms/step - loss: 7.7217e-04 - accuracy: 1.0000 - val_loss: 0.1188 - val_accuracy: 0.9429\n",
      "Epoch 51/100\n",
      "2/2 [==============================] - 0s 56ms/step - loss: 8.2911e-04 - accuracy: 1.0000 - val_loss: 0.1162 - val_accuracy: 0.9429\n",
      "Epoch 52/100\n",
      "2/2 [==============================] - 0s 57ms/step - loss: 9.0447e-04 - accuracy: 1.0000 - val_loss: 0.1146 - val_accuracy: 0.9429\n",
      "Epoch 53/100\n",
      "2/2 [==============================] - 0s 49ms/step - loss: 9.3109e-04 - accuracy: 1.0000 - val_loss: 0.1138 - val_accuracy: 0.9429\n",
      "Epoch 54/100\n",
      "2/2 [==============================] - 0s 63ms/step - loss: 9.0215e-04 - accuracy: 1.0000 - val_loss: 0.1137 - val_accuracy: 0.9429\n",
      "Epoch 55/100\n",
      "2/2 [==============================] - 0s 76ms/step - loss: 8.3681e-04 - accuracy: 1.0000 - val_loss: 0.1139 - val_accuracy: 0.9429\n",
      "Epoch 56/100\n",
      "2/2 [==============================] - 0s 79ms/step - loss: 7.5712e-04 - accuracy: 1.0000 - val_loss: 0.1145 - val_accuracy: 0.9429\n",
      "Epoch 57/100\n",
      "2/2 [==============================] - 0s 62ms/step - loss: 6.7535e-04 - accuracy: 1.0000 - val_loss: 0.1153 - val_accuracy: 0.9429\n",
      "Epoch 58/100\n",
      "2/2 [==============================] - 0s 48ms/step - loss: 5.9728e-04 - accuracy: 1.0000 - val_loss: 0.1164 - val_accuracy: 0.9429\n"
     ]
    },
    {
     "name": "stdout",
     "output_type": "stream",
     "text": [
      "Epoch 59/100\n",
      "2/2 [==============================] - 0s 48ms/step - loss: 5.1741e-04 - accuracy: 1.0000 - val_loss: 0.1185 - val_accuracy: 0.9429\n",
      "Epoch 60/100\n",
      "2/2 [==============================] - 0s 57ms/step - loss: 4.5662e-04 - accuracy: 1.0000 - val_loss: 0.1214 - val_accuracy: 0.9429\n",
      "Epoch 61/100\n",
      "2/2 [==============================] - 0s 48ms/step - loss: 3.8822e-04 - accuracy: 1.0000 - val_loss: 0.1244 - val_accuracy: 0.9429\n",
      "Epoch 62/100\n",
      "2/2 [==============================] - 0s 69ms/step - loss: 3.6225e-04 - accuracy: 1.0000 - val_loss: 0.1274 - val_accuracy: 0.9429\n",
      "Epoch 63/100\n",
      "2/2 [==============================] - 0s 87ms/step - loss: 3.3837e-04 - accuracy: 1.0000 - val_loss: 0.1301 - val_accuracy: 0.9429\n",
      "Epoch 64/100\n",
      "2/2 [==============================] - 0s 73ms/step - loss: 3.2851e-04 - accuracy: 1.0000 - val_loss: 0.1326 - val_accuracy: 0.9429\n",
      "Epoch 65/100\n",
      "2/2 [==============================] - 0s 61ms/step - loss: 3.1470e-04 - accuracy: 1.0000 - val_loss: 0.1347 - val_accuracy: 0.9429\n",
      "Epoch 66/100\n",
      "2/2 [==============================] - 0s 48ms/step - loss: 2.9936e-04 - accuracy: 1.0000 - val_loss: 0.1365 - val_accuracy: 0.9429\n",
      "Epoch 67/100\n",
      "2/2 [==============================] - 0s 46ms/step - loss: 2.8336e-04 - accuracy: 1.0000 - val_loss: 0.1382 - val_accuracy: 0.9429\n",
      "Epoch 68/100\n",
      "2/2 [==============================] - 0s 31ms/step - loss: 2.6778e-04 - accuracy: 1.0000 - val_loss: 0.1398 - val_accuracy: 0.9429\n",
      "Epoch 69/100\n",
      "2/2 [==============================] - 0s 31ms/step - loss: 2.5270e-04 - accuracy: 1.0000 - val_loss: 0.1416 - val_accuracy: 0.9429\n",
      "Epoch 70/100\n",
      "2/2 [==============================] - 0s 54ms/step - loss: 2.3757e-04 - accuracy: 1.0000 - val_loss: 0.1434 - val_accuracy: 0.9429\n",
      "Epoch 71/100\n",
      "2/2 [==============================] - 0s 60ms/step - loss: 2.2638e-04 - accuracy: 1.0000 - val_loss: 0.1452 - val_accuracy: 0.9429\n",
      "Epoch 72/100\n",
      "2/2 [==============================] - 0s 42ms/step - loss: 2.1621e-04 - accuracy: 1.0000 - val_loss: 0.1468 - val_accuracy: 0.9429\n",
      "Epoch 73/100\n",
      "2/2 [==============================] - 0s 37ms/step - loss: 2.0729e-04 - accuracy: 1.0000 - val_loss: 0.1481 - val_accuracy: 0.9429\n",
      "Epoch 74/100\n",
      "2/2 [==============================] - 0s 62ms/step - loss: 1.9774e-04 - accuracy: 1.0000 - val_loss: 0.1494 - val_accuracy: 0.9429\n",
      "Epoch 75/100\n",
      "2/2 [==============================] - 0s 61ms/step - loss: 1.9041e-04 - accuracy: 1.0000 - val_loss: 0.1509 - val_accuracy: 0.9429\n",
      "Epoch 76/100\n",
      "2/2 [==============================] - 0s 61ms/step - loss: 1.8273e-04 - accuracy: 1.0000 - val_loss: 0.1522 - val_accuracy: 0.9429\n",
      "Epoch 77/100\n",
      "2/2 [==============================] - 0s 32ms/step - loss: 1.7729e-04 - accuracy: 1.0000 - val_loss: 0.1534 - val_accuracy: 0.9429\n",
      "Epoch 78/100\n",
      "2/2 [==============================] - 0s 66ms/step - loss: 1.7300e-04 - accuracy: 1.0000 - val_loss: 0.1545 - val_accuracy: 0.9429\n",
      "Epoch 79/100\n",
      "2/2 [==============================] - 0s 42ms/step - loss: 1.6989e-04 - accuracy: 1.0000 - val_loss: 0.1556 - val_accuracy: 0.9429\n",
      "Epoch 80/100\n",
      "2/2 [==============================] - 0s 42ms/step - loss: 1.6678e-04 - accuracy: 1.0000 - val_loss: 0.1566 - val_accuracy: 0.9429\n",
      "Epoch 81/100\n",
      "2/2 [==============================] - 0s 47ms/step - loss: 1.6361e-04 - accuracy: 1.0000 - val_loss: 0.1575 - val_accuracy: 0.9429\n",
      "Epoch 82/100\n",
      "2/2 [==============================] - 0s 34ms/step - loss: 1.6035e-04 - accuracy: 1.0000 - val_loss: 0.1582 - val_accuracy: 0.9429\n",
      "Epoch 83/100\n",
      "2/2 [==============================] - 0s 53ms/step - loss: 1.5644e-04 - accuracy: 1.0000 - val_loss: 0.1589 - val_accuracy: 0.9429\n",
      "Epoch 84/100\n",
      "2/2 [==============================] - 0s 44ms/step - loss: 1.5283e-04 - accuracy: 1.0000 - val_loss: 0.1595 - val_accuracy: 0.9429\n",
      "Epoch 85/100\n",
      "2/2 [==============================] - 0s 59ms/step - loss: 1.4924e-04 - accuracy: 1.0000 - val_loss: 0.1601 - val_accuracy: 0.9429\n",
      "Epoch 86/100\n",
      "2/2 [==============================] - 0s 60ms/step - loss: 1.4600e-04 - accuracy: 1.0000 - val_loss: 0.1606 - val_accuracy: 0.9429\n",
      "Epoch 87/100\n",
      "2/2 [==============================] - 0s 51ms/step - loss: 1.4303e-04 - accuracy: 1.0000 - val_loss: 0.1611 - val_accuracy: 0.9429\n",
      "Epoch 88/100\n",
      "2/2 [==============================] - 0s 59ms/step - loss: 1.4028e-04 - accuracy: 1.0000 - val_loss: 0.1616 - val_accuracy: 0.9429\n",
      "Epoch 89/100\n",
      "2/2 [==============================] - 0s 64ms/step - loss: 1.3764e-04 - accuracy: 1.0000 - val_loss: 0.1620 - val_accuracy: 0.9429\n",
      "Epoch 90/100\n",
      "2/2 [==============================] - 0s 73ms/step - loss: 1.3521e-04 - accuracy: 1.0000 - val_loss: 0.1625 - val_accuracy: 0.9429\n",
      "Epoch 91/100\n",
      "2/2 [==============================] - 0s 65ms/step - loss: 1.3298e-04 - accuracy: 1.0000 - val_loss: 0.1629 - val_accuracy: 0.9429\n",
      "Epoch 92/100\n",
      "2/2 [==============================] - 0s 52ms/step - loss: 1.3094e-04 - accuracy: 1.0000 - val_loss: 0.1633 - val_accuracy: 0.9429\n",
      "Epoch 93/100\n",
      "2/2 [==============================] - 0s 65ms/step - loss: 1.2901e-04 - accuracy: 1.0000 - val_loss: 0.1636 - val_accuracy: 0.9429\n",
      "Epoch 94/100\n",
      "2/2 [==============================] - 0s 58ms/step - loss: 1.2717e-04 - accuracy: 1.0000 - val_loss: 0.1638 - val_accuracy: 0.9429\n",
      "Epoch 95/100\n",
      "2/2 [==============================] - 0s 68ms/step - loss: 1.2541e-04 - accuracy: 1.0000 - val_loss: 0.1641 - val_accuracy: 0.9429\n",
      "Epoch 96/100\n",
      "2/2 [==============================] - 0s 71ms/step - loss: 1.2378e-04 - accuracy: 1.0000 - val_loss: 0.1644 - val_accuracy: 0.9429\n",
      "Epoch 97/100\n",
      "2/2 [==============================] - 0s 60ms/step - loss: 1.2191e-04 - accuracy: 1.0000 - val_loss: 0.1648 - val_accuracy: 0.9429\n",
      "Epoch 98/100\n",
      "2/2 [==============================] - 0s 66ms/step - loss: 1.1972e-04 - accuracy: 1.0000 - val_loss: 0.1653 - val_accuracy: 0.9429\n",
      "Epoch 99/100\n",
      "2/2 [==============================] - 0s 64ms/step - loss: 1.1750e-04 - accuracy: 1.0000 - val_loss: 0.1658 - val_accuracy: 0.9429\n",
      "Epoch 100/100\n",
      "2/2 [==============================] - 0s 67ms/step - loss: 1.1479e-04 - accuracy: 1.0000 - val_loss: 0.1663 - val_accuracy: 0.9429\n"
     ]
    },
    {
     "name": "stderr",
     "output_type": "stream",
     "text": [
      "C:\\Users\\Sneha\\anaconda3\\Lib\\site-packages\\keras\\src\\engine\\training.py:3103: UserWarning: You are saving your model as an HDF5 file via `model.save()`. This file format is considered legacy. We recommend using instead the native Keras format, e.g. `model.save('my_model.keras')`.\n",
      "  saving_api.save_model(\n"
     ]
    }
   ],
   "source": [
    "model = Sequential()\n",
    "model.add(Dense(512, activation='relu', input_shape=(X_train.shape[1],)))\n",
    "model.add(Dense(256, activation='relu'))\n",
    "model.add(Dense(128, activation='relu'))\n",
    "model.add(Dense(1, activation='sigmoid'))\n",
    "\n",
    "model.compile(optimizer='adam', loss='binary_crossentropy', metrics=['accuracy'])\n",
    "\n",
    "his=model.fit(X_train, y_train, epochs=100, batch_size=128, validation_data=(X_test, y_test))\n",
    "# Save the model\n",
    "model.save(\"covid.h5\")\n",
    "model = load_model('covid.h5') "
   ]
  },
  {
   "cell_type": "code",
   "execution_count": 109,
   "id": "e773b2f2",
   "metadata": {},
   "outputs": [
    {
     "name": "stdout",
     "output_type": "stream",
     "text": [
      "2/2 [==============================] - 0s 7ms/step - loss: 0.1663 - accuracy: 0.9429\n",
      "Test Accuracy: 0.9429\n"
     ]
    }
   ],
   "source": [
    "_, test_accuracy = model.evaluate(X_test, y_test)\n",
    "\n",
    "print(f\"Test Accuracy: {test_accuracy:.4f}\")"
   ]
  },
  {
   "cell_type": "code",
   "execution_count": 98,
   "id": "5eaf4d7f",
   "metadata": {},
   "outputs": [],
   "source": [
    "def preprocess_features(features):\n",
    "    scaler = StandardScaler()\n",
    "    features_scaled = scaler.fit_transform(np.array(features).reshape(1, -1))\n",
    "    return features_scaled\n"
   ]
  },
  {
   "cell_type": "code",
   "execution_count": 99,
   "id": "448bcf07",
   "metadata": {},
   "outputs": [
    {
     "name": "stderr",
     "output_type": "stream",
     "text": [
      "C:\\Users\\Sneha\\anaconda3\\Lib\\site-packages\\librosa\\core\\pitch.py:101: UserWarning: Trying to estimate tuning from empty frequency set.\n",
      "  return pitch_tuning(\n"
     ]
    },
    {
     "name": "stdout",
     "output_type": "stream",
     "text": [
      "1/1 [==============================] - 0s 75ms/step\n",
      "Predicted class: Non-COVID-19\n"
     ]
    }
   ],
   "source": [
    "model = load_model('covid.h5')  \n",
    "audio_file_path = 'C:/Users/Sneha/Desktop/Test/Test_Data-20240412T131115Z-001/Test_Data/kOshish_mru.wav'\n",
    "\n",
    "tf = extract_features(audio_file_path)\n",
    "\n",
    "tfs = preprocess_features(tf)\n",
    "\n",
    "test = model.predict(tfs)\n",
    "\n",
    "if test[0] >= 0.86:\n",
    "    print(\"Predicted class: COVID-19\")\n",
    "else:\n",
    "    print(\"Predicted class: Non-COVID-19\")\n"
   ]
  },
  {
   "cell_type": "code",
   "execution_count": 108,
   "id": "6d214682",
   "metadata": {},
   "outputs": [
    {
     "name": "stdout",
     "output_type": "stream",
     "text": [
      "1/1 [==============================] - 0s 78ms/step\n",
      "Predicted class: COVID-19\n"
     ]
    }
   ],
   "source": [
    "model = load_model('covid.h5')  \n",
    "audio_file_path = 'C:/Users/Sneha/Desktop/Test/Test_Data-20240412T131115Z-001/Test_Data/pos1.wav'\n",
    "\n",
    "tf = extract_features(audio_file_path)\n",
    "\n",
    "tfs = preprocess_features(tf)\n",
    "\n",
    "test = model.predict(tfs)\n",
    "\n",
    "if test[0] >= 0.86:\n",
    "    print(\"Predicted class: COVID-19\")\n",
    "else:\n",
    "    print(\"Predicted class: Non-COVID-19\")\n"
   ]
  },
  {
   "cell_type": "code",
   "execution_count": null,
   "id": "415ad5d1",
   "metadata": {},
   "outputs": [],
   "source": []
  }
 ],
 "metadata": {
  "kernelspec": {
   "display_name": "Python 3 (ipykernel)",
   "language": "python",
   "name": "python3"
  },
  "language_info": {
   "codemirror_mode": {
    "name": "ipython",
    "version": 3
   },
   "file_extension": ".py",
   "mimetype": "text/x-python",
   "name": "python",
   "nbconvert_exporter": "python",
   "pygments_lexer": "ipython3",
   "version": "3.11.5"
  }
 },
 "nbformat": 4,
 "nbformat_minor": 5
}
